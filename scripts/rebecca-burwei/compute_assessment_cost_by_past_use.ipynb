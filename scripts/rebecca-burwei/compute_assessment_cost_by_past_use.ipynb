{
 "cells": [
  {
   "cell_type": "code",
   "execution_count": 1,
   "metadata": {},
   "outputs": [],
   "source": [
    "import numpy as np\n",
    "import pandas as pd\n",
    "import seaborn as sns"
   ]
  },
  {
   "cell_type": "code",
   "execution_count": 2,
   "metadata": {},
   "outputs": [
    {
     "name": "stderr",
     "output_type": "stream",
     "text": [
      "/home/weimachine/.virtualenvs/data_template/lib/python3.8/site-packages/IPython/core/interactiveshell.py:3071: DtypeWarning: Columns (18,19,20,21,22,23,43,44,46,48,53,57,61,62,64,65,67,68,69,74,76,77,78,86,87,89,98) have mixed types.Specify dtype option on import or set low_memory=False.\n",
      "  has_raised = await self.run_ast_nodes(code_ast.body, cell_name,\n"
     ]
    }
   ],
   "source": [
    "# Read in data\n",
    "df = pd.read_csv(\n",
    "    \"../../data/brownfields_data_with_county_geoid/brownfields_data_with_county_geoid.csv\"\n",
    ")"
   ]
  },
  {
   "cell_type": "code",
   "execution_count": 3,
   "metadata": {},
   "outputs": [],
   "source": [
    "assessment = \"Phase II Environmental Assessment\"\n",
    "\n",
    "# Subset to data with complete assessment info\n",
    "df = df[\n",
    "        (df[\"Type of Brownfields Grant\"] == \"Assessment\") &\n",
    "        (df[\"Amt of Assessment Funding\"] > 0) & \n",
    "        (df[\"Assessment Phase\"] == assessment) &\n",
    "        (df[\"Assessment Completion Date\"] < \"2021-03-01\")\n",
    "    ]"
   ]
  },
  {
   "cell_type": "code",
   "execution_count": 4,
   "metadata": {},
   "outputs": [
    {
     "data": {
      "text/html": [
       "<div>\n",
       "<style scoped>\n",
       "    .dataframe tbody tr th:only-of-type {\n",
       "        vertical-align: middle;\n",
       "    }\n",
       "\n",
       "    .dataframe tbody tr th {\n",
       "        vertical-align: top;\n",
       "    }\n",
       "\n",
       "    .dataframe thead th {\n",
       "        text-align: right;\n",
       "    }\n",
       "</style>\n",
       "<table border=\"1\" class=\"dataframe\">\n",
       "  <thead>\n",
       "    <tr style=\"text-align: right;\">\n",
       "      <th></th>\n",
       "      <th>Past Use</th>\n",
       "      <th>count</th>\n",
       "      <th>mean</th>\n",
       "      <th>std</th>\n",
       "      <th>min</th>\n",
       "      <th>25%</th>\n",
       "      <th>50%</th>\n",
       "      <th>75%</th>\n",
       "      <th>max</th>\n",
       "    </tr>\n",
       "  </thead>\n",
       "  <tbody>\n",
       "    <tr>\n",
       "      <th>0</th>\n",
       "      <td>Commercial</td>\n",
       "      <td>2975.0</td>\n",
       "      <td>25703.497580</td>\n",
       "      <td>66846.975754</td>\n",
       "      <td>1.0</td>\n",
       "      <td>9236.00</td>\n",
       "      <td>17346.0</td>\n",
       "      <td>30851.0</td>\n",
       "      <td>3304535.0</td>\n",
       "    </tr>\n",
       "    <tr>\n",
       "      <th>1</th>\n",
       "      <td>Greenspace</td>\n",
       "      <td>263.0</td>\n",
       "      <td>23010.815589</td>\n",
       "      <td>30196.855085</td>\n",
       "      <td>140.0</td>\n",
       "      <td>7609.00</td>\n",
       "      <td>14248.0</td>\n",
       "      <td>26323.0</td>\n",
       "      <td>238215.0</td>\n",
       "    </tr>\n",
       "    <tr>\n",
       "      <th>2</th>\n",
       "      <td>Industrial</td>\n",
       "      <td>1710.0</td>\n",
       "      <td>42629.905877</td>\n",
       "      <td>74557.532248</td>\n",
       "      <td>1.0</td>\n",
       "      <td>12936.85</td>\n",
       "      <td>26581.0</td>\n",
       "      <td>48617.5</td>\n",
       "      <td>1694917.0</td>\n",
       "    </tr>\n",
       "    <tr>\n",
       "      <th>3</th>\n",
       "      <td>Residential</td>\n",
       "      <td>516.0</td>\n",
       "      <td>12608.728798</td>\n",
       "      <td>14944.168358</td>\n",
       "      <td>1.0</td>\n",
       "      <td>2075.00</td>\n",
       "      <td>7361.0</td>\n",
       "      <td>17900.0</td>\n",
       "      <td>107511.0</td>\n",
       "    </tr>\n",
       "  </tbody>\n",
       "</table>\n",
       "</div>"
      ],
      "text/plain": [
       "      Past Use   count          mean           std    min       25%      50%  \\\n",
       "0   Commercial  2975.0  25703.497580  66846.975754    1.0   9236.00  17346.0   \n",
       "1   Greenspace   263.0  23010.815589  30196.855085  140.0   7609.00  14248.0   \n",
       "2   Industrial  1710.0  42629.905877  74557.532248    1.0  12936.85  26581.0   \n",
       "3  Residential   516.0  12608.728798  14944.168358    1.0   2075.00   7361.0   \n",
       "\n",
       "       75%        max  \n",
       "0  30851.0  3304535.0  \n",
       "1  26323.0   238215.0  \n",
       "2  48617.5  1694917.0  \n",
       "3  17900.0   107511.0  "
      ]
     },
     "execution_count": 4,
     "metadata": {},
     "output_type": "execute_result"
    },
    {
     "data": {
      "image/png": "[encoded data removed]",
      "text/plain": [
       "<Figure size 432x288 with 1 Axes>"
      ]
     },
     "metadata": {
      "needs_background": "light"
     },
     "output_type": "display_data"
    }
   ],
   "source": [
    "past_use_cols = [\n",
    "    \"Past Use: Greenspace (arces)\",\n",
    "    \"Past Use: Residential (arces)\",\n",
    "    \"Past Use: Commercial (arces)\",\n",
    "    \"Past Use: Industrial (arces)\",\n",
    "]\n",
    "\n",
    "assessment_cols = [\n",
    "    \"ACRES Property ID\", \n",
    "    \"Assessment Phase\", \n",
    "    \"Assessment Start Date\", \n",
    "    \"Assessment Completion Date\",\n",
    "    \"Source of Assessment Funding\", \n",
    "    \"Entity Providing Assmnt Funds\", \n",
    "    \"Amt of Assessment Funding\",\n",
    "]\n",
    "\n",
    "# Find the \"pure usage\" properties, i.e., the properties that ONLY\n",
    "# had greenspace, or only had residential, or only had commericial,\n",
    "# or only had industrial.\n",
    "\n",
    "# Compare the assessment cost of greenspace-only properties to\n",
    "# residential-only, commercial-only and industrial-only.\n",
    "\n",
    "pure_dfs = []\n",
    "\n",
    "for use in past_use_cols:\n",
    "    # Build pure_df, a dataset of grants for \"pure usage\" properties\n",
    "    pure_df = df[(df[use] > 0)]\n",
    "    other_uses = [x for x in past_use_cols if x != use]\n",
    "    for x in other_uses:\n",
    "        pure_df = pure_df[(pure_df[x] == 0) | pd.isna(pure_df[x])]\n",
    "    \n",
    "    # Drop duplicate grant & assessment info\n",
    "    pure_df = pure_df.drop_duplicates(subset=[use]+assessment_cols)\n",
    "    \n",
    "    # For a given property, add up assessment funding from all grants\n",
    "    pure_df = pure_df.groupby([\"ACRES Property ID\"]) \\\n",
    "        .agg({use: \"max\", \"Amt of Assessment Funding\": \"sum\"}).reset_index()\n",
    "\n",
    "    # Clean up columns\n",
    "    pure_df[\"Past Use\"] = use.split(\" \")[2]\n",
    "    pure_df[\"log(Assessment Cost)\"] = pure_df[\"Amt of Assessment Funding\"] \\\n",
    "        .apply(lambda x: np.log(x))\n",
    "    pure_df[\"Assessment Cost\"] = pure_df[\"Amt of Assessment Funding\"]\n",
    "    \n",
    "    # Add pure_df to a growing list of pure_df's\n",
    "    pure_dfs.append(\n",
    "        pure_df[[\"Past Use\", \"log(Assessment Cost)\", \"Assessment Cost\"]]\n",
    "    )\n",
    "\n",
    "# Combine the pure_df's into a single dataframe\n",
    "plot_df = pd.concat(pure_dfs)\n",
    "\n",
    "# Boxplot of assessment costs\n",
    "sns.boxplot(x=\"Past Use\", y=\"log(Assessment Cost)\", data=plot_df) \\\n",
    "           .set_title(f\"Costs for {assessment}\")\n",
    "\n",
    "# Table of assessment costs\n",
    "plot_df.groupby(\"Past Use\")[\"Assessment Cost\"].describe().reset_index()"
   ]
  }
 ],
 "metadata": {
  "kernelspec": {
   "display_name": "data_template",
   "language": "python",
   "name": "data_template"
  },
  "language_info": {
   "codemirror_mode": {
    "name": "ipython",
    "version": 3
   },
   "file_extension": ".py",
   "mimetype": "text/x-python",
   "name": "python",
   "nbconvert_exporter": "python",
   "pygments_lexer": "ipython3",
   "version": "3.8.5"
  }
 },
 "nbformat": 4,
 "nbformat_minor": 4
}

{
 "cells": [
  {
   "cell_type": "code",
   "execution_count": 1,
   "metadata": {
    "collapsed": false
   },
   "outputs": [
    {
     "name": "stderr",
     "output_type": "stream",
     "text": [
      "/Users/dineshmurali/miniconda3/lib/python3.5/site-packages/IPython/core/interactiveshell.py:2723: DtypeWarning: Columns (18,19,20,21,22,23,43,44,46,48,53,57,61,62,64,65,67,68,69,74,76,77,78,86,87,89,98) have mixed types. Specify dtype option on import or set low_memory=False.\n",
      "  interactivity=interactivity, compiler=compiler, result=result)\n"
     ]
    },
    {
     "data": {
      "text/html": [
       "<div>\n",
       "<style scoped>\n",
       "    .dataframe tbody tr th:only-of-type {\n",
       "        vertical-align: middle;\n",
       "    }\n",
       "\n",
       "    .dataframe tbody tr th {\n",
       "        vertical-align: top;\n",
       "    }\n",
       "\n",
       "    .dataframe thead th {\n",
       "        text-align: right;\n",
       "    }\n",
       "</style>\n",
       "<table border=\"1\" class=\"dataframe\">\n",
       "  <thead>\n",
       "    <tr style=\"text-align: right;\">\n",
       "      <th></th>\n",
       "      <th>Grant Recipient Name</th>\n",
       "      <th>Accomplishment Counted</th>\n",
       "      <th>Cooperative Agreement Number</th>\n",
       "      <th>Type of Brownfields Grant</th>\n",
       "      <th>ACRES Property ID</th>\n",
       "      <th>Property Name</th>\n",
       "      <th>Property Address 1</th>\n",
       "      <th>Property City</th>\n",
       "      <th>Property  State</th>\n",
       "      <th>Property Zip Code</th>\n",
       "      <th>...</th>\n",
       "      <th>Radius</th>\n",
       "      <th>EPA Region</th>\n",
       "      <th>Grant ID</th>\n",
       "      <th>Highlights</th>\n",
       "      <th>Program Code</th>\n",
       "      <th>Stcntrbg</th>\n",
       "      <th>ASSESSMENT YEAR</th>\n",
       "      <th>ROW COUNT</th>\n",
       "      <th>GEOID</th>\n",
       "      <th>COUNTY NAME</th>\n",
       "    </tr>\n",
       "  </thead>\n",
       "  <tbody>\n",
       "    <tr>\n",
       "      <th>0</th>\n",
       "      <td>Tuscola Cty Brownfield RA</td>\n",
       "      <td>NaN</td>\n",
       "      <td>00E46901</td>\n",
       "      <td>Assessment</td>\n",
       "      <td>97204</td>\n",
       "      <td>Proposed Industrial Park</td>\n",
       "      <td>M-24</td>\n",
       "      <td>Mayville</td>\n",
       "      <td>MI</td>\n",
       "      <td>48744</td>\n",
       "      <td>...</td>\n",
       "      <td>0.5</td>\n",
       "      <td>5</td>\n",
       "      <td>69599367.0</td>\n",
       "      <td>The project was able to facilitate the receipt...</td>\n",
       "      <td>BF</td>\n",
       "      <td>NaN</td>\n",
       "      <td>NaN</td>\n",
       "      <td>2</td>\n",
       "      <td>26157.0</td>\n",
       "      <td>Tuscola</td>\n",
       "    </tr>\n",
       "    <tr>\n",
       "      <th>1</th>\n",
       "      <td>South St. Paul Housing and Redevelopment Autho...</td>\n",
       "      <td>Y</td>\n",
       "      <td>96596801</td>\n",
       "      <td>Assessment</td>\n",
       "      <td>96617</td>\n",
       "      <td>575/A HARDMAN AVE</td>\n",
       "      <td>575/A HARDMAN AVE</td>\n",
       "      <td>South St. Paul</td>\n",
       "      <td>MN</td>\n",
       "      <td>55075</td>\n",
       "      <td>...</td>\n",
       "      <td>0.5</td>\n",
       "      <td>5</td>\n",
       "      <td>69598371.0</td>\n",
       "      <td>Former Use: Historic land use of the Bridgepoi...</td>\n",
       "      <td>BF</td>\n",
       "      <td>NaN</td>\n",
       "      <td>2006.0</td>\n",
       "      <td>1</td>\n",
       "      <td>27037.0</td>\n",
       "      <td>Dakota</td>\n",
       "    </tr>\n",
       "    <tr>\n",
       "      <th>2</th>\n",
       "      <td>Missouri Department of Natural Resources</td>\n",
       "      <td>Y</td>\n",
       "      <td>98727702</td>\n",
       "      <td>Section 128(a) State/Tribal</td>\n",
       "      <td>96908</td>\n",
       "      <td>2932 Thomas St</td>\n",
       "      <td>2932 Thomas St</td>\n",
       "      <td>St. Louis</td>\n",
       "      <td>MO</td>\n",
       "      <td>63106</td>\n",
       "      <td>...</td>\n",
       "      <td>0.5</td>\n",
       "      <td>7</td>\n",
       "      <td>69598549.0</td>\n",
       "      <td>Former Use: 52 vacant lots in the City of St. ...</td>\n",
       "      <td>RP</td>\n",
       "      <td>NaN</td>\n",
       "      <td>2008.0</td>\n",
       "      <td>1</td>\n",
       "      <td>29510.0</td>\n",
       "      <td>St. Louis City</td>\n",
       "    </tr>\n",
       "    <tr>\n",
       "      <th>3</th>\n",
       "      <td>Missouri Department of Natural Resources</td>\n",
       "      <td>Y</td>\n",
       "      <td>98727702</td>\n",
       "      <td>Section 128(a) State/Tribal</td>\n",
       "      <td>96924</td>\n",
       "      <td>2946 Thomas St</td>\n",
       "      <td>2946 Thomas St</td>\n",
       "      <td>St. Louis</td>\n",
       "      <td>MO</td>\n",
       "      <td>63106</td>\n",
       "      <td>...</td>\n",
       "      <td>0.5</td>\n",
       "      <td>7</td>\n",
       "      <td>69598549.0</td>\n",
       "      <td>Former Use: 52 vacant lots in the City of St. ...</td>\n",
       "      <td>RP</td>\n",
       "      <td>NaN</td>\n",
       "      <td>2008.0</td>\n",
       "      <td>1</td>\n",
       "      <td>29510.0</td>\n",
       "      <td>St. Louis City</td>\n",
       "    </tr>\n",
       "    <tr>\n",
       "      <th>4</th>\n",
       "      <td>Missouri Department of Natural Resources</td>\n",
       "      <td>Y</td>\n",
       "      <td>98727702</td>\n",
       "      <td>Section 128(a) State/Tribal</td>\n",
       "      <td>96925</td>\n",
       "      <td>2947 Thomas Ave</td>\n",
       "      <td>2947 Thomas Ave</td>\n",
       "      <td>St. Louis</td>\n",
       "      <td>MO</td>\n",
       "      <td>63103</td>\n",
       "      <td>...</td>\n",
       "      <td>0.5</td>\n",
       "      <td>7</td>\n",
       "      <td>69598549.0</td>\n",
       "      <td>Former Use: 52 vacant lots in the City of St. ...</td>\n",
       "      <td>RP</td>\n",
       "      <td>NaN</td>\n",
       "      <td>2008.0</td>\n",
       "      <td>1</td>\n",
       "      <td>29510.0</td>\n",
       "      <td>St. Louis City</td>\n",
       "    </tr>\n",
       "  </tbody>\n",
       "</table>\n",
       "<p>5 rows × 150 columns</p>\n",
       "</div>"
      ],
      "text/plain": [
       "                                Grant Recipient Name Accomplishment Counted  \\\n",
       "0                          Tuscola Cty Brownfield RA                    NaN   \n",
       "1  South St. Paul Housing and Redevelopment Autho...                      Y   \n",
       "2           Missouri Department of Natural Resources                      Y   \n",
       "3           Missouri Department of Natural Resources                      Y   \n",
       "4           Missouri Department of Natural Resources                      Y   \n",
       "\n",
       "  Cooperative Agreement Number    Type of Brownfields Grant  \\\n",
       "0                     00E46901                   Assessment   \n",
       "1                     96596801                   Assessment   \n",
       "2                     98727702  Section 128(a) State/Tribal   \n",
       "3                     98727702  Section 128(a) State/Tribal   \n",
       "4                     98727702  Section 128(a) State/Tribal   \n",
       "\n",
       "   ACRES Property ID             Property Name Property Address 1  \\\n",
       "0              97204  Proposed Industrial Park               M-24   \n",
       "1              96617         575/A HARDMAN AVE  575/A HARDMAN AVE   \n",
       "2              96908            2932 Thomas St     2932 Thomas St   \n",
       "3              96924            2946 Thomas St     2946 Thomas St   \n",
       "4              96925           2947 Thomas Ave    2947 Thomas Ave   \n",
       "\n",
       "    Property City Property  State Property Zip Code       ...       Radius  \\\n",
       "0        Mayville              MI             48744       ...          0.5   \n",
       "1  South St. Paul              MN             55075       ...          0.5   \n",
       "2       St. Louis              MO             63106       ...          0.5   \n",
       "3       St. Louis              MO             63106       ...          0.5   \n",
       "4       St. Louis              MO             63103       ...          0.5   \n",
       "\n",
       "  EPA Region    Grant ID                                         Highlights  \\\n",
       "0          5  69599367.0  The project was able to facilitate the receipt...   \n",
       "1          5  69598371.0  Former Use: Historic land use of the Bridgepoi...   \n",
       "2          7  69598549.0  Former Use: 52 vacant lots in the City of St. ...   \n",
       "3          7  69598549.0  Former Use: 52 vacant lots in the City of St. ...   \n",
       "4          7  69598549.0  Former Use: 52 vacant lots in the City of St. ...   \n",
       "\n",
       "  Program Code Stcntrbg ASSESSMENT YEAR ROW COUNT    GEOID     COUNTY NAME  \n",
       "0           BF      NaN             NaN         2  26157.0         Tuscola  \n",
       "1           BF      NaN          2006.0         1  27037.0          Dakota  \n",
       "2           RP      NaN          2008.0         1  29510.0  St. Louis City  \n",
       "3           RP      NaN          2008.0         1  29510.0  St. Louis City  \n",
       "4           RP      NaN          2008.0         1  29510.0  St. Louis City  \n",
       "\n",
       "[5 rows x 150 columns]"
      ]
     },
     "execution_count": 1,
     "metadata": {},
     "output_type": "execute_result"
    }
   ],
   "source": [
    "import pandas as pd\n",
    "import matplotlib.pyplot as plt\n",
    "import numpy as np\n",
    "\n",
    "df = pd.read_csv('../data/brownfields_data_with_county_geoid.csv')\n",
    "df.head()"
   ]
  },
  {
   "cell_type": "code",
   "execution_count": null,
   "metadata": {
    "collapsed": false
   },
   "outputs": [],
   "source": [
    "df.shape"
   ]
  },
  {
   "cell_type": "code",
   "execution_count": 5,
   "metadata": {
    "collapsed": false
   },
   "outputs": [
    {
     "name": "stdout",
     "output_type": "stream",
     "text": [
      "(78527, 9)\n"
     ]
    }
   ],
   "source": [
    "study_fields = ['Property  State','Property Zip Code'\n",
    "                     ,'Property Latitude','Property Longitude'\n",
    "                     ,'Assessment Phase','Assessment Start Date','Assessment Completion Date'\n",
    "                    ,'Amt of Assessment Funding','Amount of Cleanup Funding']\n",
    "data_for_study = df[study_fields]\n",
    "print(data_for_study.shape)"
   ]
  },
  {
   "cell_type": "code",
   "execution_count": 6,
   "metadata": {
    "collapsed": false
   },
   "outputs": [
    {
     "name": "stdout",
     "output_type": "stream",
     "text": [
      "Property  State                object\n",
      "Property Zip Code              object\n",
      "Property Latitude              object\n",
      "Property Longitude             object\n",
      "Assessment Phase               object\n",
      "Assessment Start Date          object\n",
      "Assessment Completion Date     object\n",
      "Amt of Assessment Funding     float64\n",
      "Amount of Cleanup Funding     float64\n",
      "dtype: object\n"
     ]
    }
   ],
   "source": [
    "print(data_for_study.dtypes)"
   ]
  },
  {
   "cell_type": "code",
   "execution_count": 29,
   "metadata": {
    "collapsed": false
   },
   "outputs": [
    {
     "data": {
      "text/plain": [
       "<matplotlib.axes._subplots.AxesSubplot at 0x7fe8e7e2cf98>"
      ]
     },
     "execution_count": 29,
     "metadata": {},
     "output_type": "execute_result"
    },
    {
     "data": {
      "image/png": "[encoded data removed]",
      "text/plain": [
       "<matplotlib.figure.Figure at 0x7fe8e7a34278>"
      ]
     },
     "metadata": {},
     "output_type": "display_data"
    }
   ],
   "source": [
    "%matplotlib inline\n",
    "num_sites_by_state = data_for_study.groupby('Property  State').size().reset_index().rename(columns = {0:'Count'})\n",
    "num_sites_by_state_top_10 = by_state.sort_values(by='Count', ascending=False)[:10]\n",
    "num_sites_by_state_top_10.plot(x='Property  State', y='Count',kind='bar')"
   ]
  },
  {
   "cell_type": "code",
   "execution_count": 30,
   "metadata": {
    "collapsed": false
   },
   "outputs": [
    {
     "data": {
      "text/plain": [
       "<matplotlib.axes._subplots.AxesSubplot at 0x7fe8e7a34550>"
      ]
     },
     "execution_count": 30,
     "metadata": {},
     "output_type": "execute_result"
    },
    {
     "data": {
      "image/png": "[encoded data removed]",
      "text/plain": [
       "<matplotlib.figure.Figure at 0x7fe8e7a86320>"
      ]
     },
     "metadata": {},
     "output_type": "display_data"
    }
   ],
   "source": [
    "num_sites_by_state_bottom_10 = by_state.sort_values(by='Count')[:10]\n",
    "num_sites_by_state_bottom_10.plot(x='Property  State', y='Count',kind='bar')"
   ]
  },
  {
   "cell_type": "code",
   "execution_count": 35,
   "metadata": {
    "collapsed": false
   },
   "outputs": [
    {
     "data": {
      "text/plain": [
       "<matplotlib.axes._subplots.AxesSubplot at 0x7fe8e828a6d8>"
      ]
     },
     "execution_count": 35,
     "metadata": {},
     "output_type": "execute_result"
    },
    {
     "data": {
      "image/png": "[encoded data removed]",
      "text/plain": [
       "<matplotlib.figure.Figure at 0x7fe8e8282518>"
      ]
     },
     "metadata": {},
     "output_type": "display_data"
    }
   ],
   "source": [
    "amt_by_state = data_for_study.groupby('Property  State')[['Amt of Assessment Funding']].sum().reset_index()\n",
    "amt_by_state_top_10 = amt_by_state.sort_values(by='Amt of Assessment Funding', ascending=False)[:10]\n",
    "amt_by_state_top_10.plot(x='Property  State', y='Amt of Assessment Funding',kind='bar')"
   ]
  },
  {
   "cell_type": "code",
   "execution_count": 36,
   "metadata": {
    "collapsed": false
   },
   "outputs": [
    {
     "data": {
      "text/plain": [
       "<matplotlib.axes._subplots.AxesSubplot at 0x7fe8e7fead30>"
      ]
     },
     "execution_count": 36,
     "metadata": {},
     "output_type": "execute_result"
    },
    {
     "data": {
      "image/png": "[encoded data removed]",
      "text/plain": [
       "<matplotlib.figure.Figure at 0x7fe8e7f5a080>"
      ]
     },
     "metadata": {},
     "output_type": "display_data"
    }
   ],
   "source": [
    "amt_by_state_bottom_10 = amt_by_state.sort_values(by='Amt of Assessment Funding')[:10]\n",
    "amt_by_state_bottom_10.plot(x='Property  State', y='Amt of Assessment Funding',kind='bar')"
   ]
  },
  {
   "cell_type": "code",
   "execution_count": 2,
   "metadata": {
    "collapsed": false
   },
   "outputs": [
    {
     "data": {
      "text/plain": [
       "['Cleanup Required',\n",
       " 'Cntmnt Fnd-Arsenic',\n",
       " 'Cntmnt Fnd-Asbestos',\n",
       " 'Cntmnt Fnd-Cadmium',\n",
       " 'Cntmnt Fnd-Chromium',\n",
       " 'Cntmnt Fnd-Ctrl Sbstncs',\n",
       " 'Cntmnt Fnd-Copper',\n",
       " 'Cntmnt Fnd-Iron',\n",
       " 'Cntmnt Fnd-Lead',\n",
       " 'Cntmnt Fnd-Mercury',\n",
       " 'Cntmnt Fnd-Nickel',\n",
       " 'Cntmnt Fnd-None',\n",
       " 'Cntmnt Fnd-Other',\n",
       " 'Cntmnt Fnd-Other Metals',\n",
       " 'Cntmnt Fnd-PAHs',\n",
       " 'Cntmnt Fnd-PCBs',\n",
       " 'Cntmnt Fnd-Pesticides',\n",
       " 'Cntmnt Fnd-Petroleum',\n",
       " 'Cntmnt Fnd-Selenium',\n",
       " 'Cntmnt Fnd-SVOCs',\n",
       " 'Cntmnt Fnd-Unknown',\n",
       " 'Cntmnt Fnd-VOCs',\n",
       " 'Cntmnt Clnd Up-Arsenic',\n",
       " 'Cntmnt Clnd Up-Asbestos',\n",
       " 'Cntmnt Clnd Up-Cadmium',\n",
       " 'Cntmnt Clnd Up-Chromium',\n",
       " 'Cntmnt Clnd Up-Ctrl Sbstncs',\n",
       " 'Cntmnt Clnd Up-Copper',\n",
       " 'Cntmnt Clnd Up-Iron',\n",
       " 'Cntmnt Clnd Up-Lead',\n",
       " 'Cntmnt Clnd Up-Mercury',\n",
       " 'Cntmnt Clnd Up-Nickel',\n",
       " 'Cntmnt Clnd Up-None',\n",
       " 'Cntmnt Clnd Up-Other',\n",
       " 'Cntmnt Clnd Up-Other Metals',\n",
       " 'Cntmnt Clnd Up-PAHs',\n",
       " 'Cntmnt Clnd Up-PCBs',\n",
       " 'Cntmnt Clnd Up-Pesticides',\n",
       " 'Cntmnt Clnd Up-Petroleum',\n",
       " 'Cntmnt Clnd Up-Selenium',\n",
       " 'Cntmnt Clnd Up-SVOCs',\n",
       " 'Cntmnt Clnd Up-Unknown',\n",
       " 'Cntmnt Clnd Up-VOCs',\n",
       " 'Cntmnt Fnd-Other (Descr)',\n",
       " 'Cntmnt Clnd Up-Other (Descr)',\n",
       " 'Media Affected-Unknown',\n",
       " 'Media Clnd Up-Sediments',\n",
       " 'Media Clnd Up-Soil',\n",
       " 'Media Clnd Up-Surface Water',\n",
       " 'Media Clnd Up-Unknown',\n",
       " 'Media Clnd Up-Drnking Water',\n",
       " 'Media Clnd Up-Ground Water',\n",
       " 'Media Clnd Up-Indoor Air',\n",
       " 'Media Affected-Sediments',\n",
       " 'Media Affected-Bldg Materials',\n",
       " 'Media Affected-Soil',\n",
       " 'Media Affected-Surface Water',\n",
       " 'Media Clnd Up-Bldg Materials',\n",
       " 'Media Clnd Up-Air',\n",
       " 'Media Affected-Drnking Water',\n",
       " 'Media Affected-Ground Water',\n",
       " 'Media Affected-Indoor Air',\n",
       " 'Media Affected-Air']"
      ]
     },
     "execution_count": 2,
     "metadata": {},
     "output_type": "execute_result"
    }
   ],
   "source": [
    "cleanup_fields = [col for col in df.columns if col.startswith('Cntmnt') \n",
    "                       or col.startswith('Media') \n",
    "                       or col == 'Cleanup Required'\n",
    "                     and col not in ['Cntmnt Fnd-Other (Descr)','Cntmnt Clnd Up-Other (Descr)']]\n",
    "cleanup_fields"
   ]
  },
  {
   "cell_type": "code",
   "execution_count": 7,
   "metadata": {
    "collapsed": false
   },
   "outputs": [
    {
     "name": "stdout",
     "output_type": "stream",
     "text": [
      "(78527, 63)\n"
     ]
    }
   ],
   "source": [
    "print(df[cleanup_fields].shape)"
   ]
  },
  {
   "cell_type": "code",
   "execution_count": 3,
   "metadata": {
    "collapsed": false
   },
   "outputs": [
    {
     "data": {
      "text/plain": [
       "Cleanup Required\n",
       "N    19275\n",
       "U    19712\n",
       "Y    34388\n",
       "u        5\n",
       "dtype: int64"
      ]
     },
     "execution_count": 3,
     "metadata": {},
     "output_type": "execute_result"
    }
   ],
   "source": [
    "cleanup_data = df[cleanup_fields]\n",
    "cleanup_data.groupby('Cleanup Required').size()"
   ]
  },
  {
   "cell_type": "code",
   "execution_count": 4,
   "metadata": {
    "collapsed": false
   },
   "outputs": [
    {
     "data": {
      "text/plain": [
       "Cleanup Required\n",
       "N    19275\n",
       "Y    34388\n",
       "dtype: int64"
      ]
     },
     "execution_count": 4,
     "metadata": {},
     "output_type": "execute_result"
    }
   ],
   "source": [
    "cleanup_required_confirmed = cleanup_data[(cleanup_data['Cleanup Required'] == 'Y') |\n",
    "                                         (cleanup_data['Cleanup Required'] == 'N')]\n",
    "cleanup_required_confirmed.groupby('Cleanup Required').size()"
   ]
  },
  {
   "cell_type": "code",
   "execution_count": 5,
   "metadata": {
    "collapsed": false
   },
   "outputs": [
    {
     "name": "stdout",
     "output_type": "stream",
     "text": [
      "(53663, 63)\n",
      "(53663, 63)\n"
     ]
    }
   ],
   "source": [
    "cleanup_required_conf_final = pd.DataFrame()\n",
    "for col in cleanup_required_confirmed.columns:\n",
    "    #cleanup_required_confirmed[col] = cleanup_required_confirmed[col].astype(bool)\n",
    "    cleanup_required_conf_final[col] = np.where(cleanup_required_confirmed[col] == 'Y', 1, 0)\n",
    "    \n",
    "print(cleanup_required_confirmed.shape)\n",
    "print(cleanup_required_conf_final.shape)"
   ]
  },
  {
   "cell_type": "code",
   "execution_count": 61,
   "metadata": {
    "collapsed": false
   },
   "outputs": [
    {
     "data": {
      "text/plain": [
       "Cleanup Required\n",
       "N    19275\n",
       "Y    34388\n",
       "dtype: int64"
      ]
     },
     "execution_count": 61,
     "metadata": {},
     "output_type": "execute_result"
    }
   ],
   "source": [
    "cleanup_required_confirmed.groupby('Cleanup Required').size()"
   ]
  },
  {
   "cell_type": "code",
   "execution_count": 62,
   "metadata": {
    "collapsed": false
   },
   "outputs": [
    {
     "data": {
      "text/plain": [
       "Cleanup Required\n",
       "0    19275\n",
       "1    34388\n",
       "dtype: int64"
      ]
     },
     "execution_count": 62,
     "metadata": {},
     "output_type": "execute_result"
    }
   ],
   "source": [
    "cleanup_required_conf_final.groupby('Cleanup Required').size()"
   ]
  },
  {
   "cell_type": "code",
   "execution_count": 14,
   "metadata": {
    "collapsed": false
   },
   "outputs": [],
   "source": [
    "def searchBestModelParameters(algorithm, trainingData, y_train, target_var, scoring):\n",
    "    #using randomforest\n",
    "    if algorithm == 'rf':\n",
    "        numTrees = range(10, 100, 10)\n",
    "        numMinLeafSamples = range(2, 20, 2)\n",
    "        numMinSamplesSplit = range(2, 20, 3)\n",
    "        paramDistribution = dict(n_estimators = numTrees\n",
    "                                 ,min_samples_leaf = numMinLeafSamples\n",
    "                                 ,min_samples_split = numMinSamplesSplit\n",
    "                                )\n",
    "        model = RandomForestClassifier()\n",
    "    elif algorithm == 'knn':\n",
    "        # model the data using knn\n",
    "        # define the parameter values that should be searched\n",
    "        k_range = range(1, 50)\n",
    "        weight_options = ['uniform', 'distance']\n",
    "        # specify \"parameter distributions\" rather than a \"parameter grid\"\n",
    "        paramDistribution = dict(n_neighbors = k_range, weights = weight_options)\n",
    "        model = KNeighborsClassifier()\n",
    "    elif algorithm == 'logr':\n",
    "        #model data using logistic regression\n",
    "        model = LogisticRegression()\n",
    "        %time print(np.sqrt(-cross_val_score(model,trainingData,trainingData[target_var],cv=10,scoring='mean_squared_error')).mean())\n",
    "        return\n",
    "            \n",
    "    bestRun = []\n",
    "    for _ in range(20):\n",
    "        rand = RandomizedSearchCV(model, paramDistribution, cv=10, scoring = scoring, n_iter = 10)\n",
    "        rand.fit(trainingData, y_train)\n",
    "        # examine the best model\n",
    "        bestRun.append({'score' : round(rand.best_score_,3), 'params' : rand.best_params_})\n",
    "    print(max(bestRun, key=lambda x:x['score']))\n",
    "    return max(bestRun, key=lambda x:x['score'])\n",
    "\n",
    "def reportModelMetric(model, metric, trainingData, algo):\n",
    "    if metric == 'featureImportance':\n",
    "        modelMetric =  pd.DataFrame(model.feature_importances_, columns = ['ModelMetric'])\n",
    "    \n",
    "    #format the important features predicted by the model\n",
    "    features = pd.DataFrame(trainingData.columns.values, columns = ['Features'])\n",
    "    importanceByFeature = pd.concat([features, modelMetric], axis = 1)\n",
    "    importanceByFeature.sort_values(by = ['ModelMetric'], inplace = True, ascending = False)\n",
    "    #write to file\n",
    "    importanceByFeature.to_csv('RFFeatureImportance_'+algo+'.csv', index = False)\n",
    "    print('Output written to RFFeatureImportance_'+algo+'.csv')\n",
    "    \n",
    "def predictAndReport(algo, best_params, x_train, y_train, x_test, y_test, target_var):\n",
    "    if algo == 'rf':\n",
    "        predictor = RandomForestClassifier(min_samples_split = best_params['min_samples_split']\n",
    "                                           ,n_estimators = best_params['n_estimators'] \n",
    "                                           ,min_samples_leaf = best_params['min_samples_leaf'])\n",
    "    elif algo == 'knn':\n",
    "        predictor = KNeighborsClassifier(n_neighbors = 1, weights = 'distance')\n",
    "    elif algo == 'logr':\n",
    "        predictor = LogisticRegression()\n",
    "    \n",
    "    predictor.fit(x_train, y_train)\n",
    "    if algo == 'logr':\n",
    "        coefficients = pd.DataFrame(predictor.coef_[0], columns = ['Coefficients'])\n",
    "        features = pd.DataFrame(train.columns.values, columns = ['Features'])\n",
    "        featureCoefficients = pd.concat([features, coefficients], axis = 1)\n",
    "        featureCoefficients.sort_values(by = ['Coefficients'], inplace = True, ascending = False)\n",
    "        featureCoefficients.to_csv('../spamSiteFeatureCoefficients_'+algo+'.csv', index = False)\n",
    "        print('Coefficients written to spamSiteFeatureCoefficients_'+algo+'.csv')\n",
    "    \n",
    "       \n",
    "    predicted = predictor.predict(x_test)\n",
    "    #copy the actual and predicted columns into one frame, so it can be used for confusion matrix and such evaluation\n",
    "    final = pd.DataFrame(predicted, columns = ['predictedClass'])\n",
    "    final[target_var] = y_test\n",
    "    \n",
    "    #look at counts at various stages to be sure nothing is amiss\n",
    "    print(\"Predicted rows: %d\" %len(predicted))\n",
    "    print(\"Test set rows: %d\" %len(x_test.index))\n",
    "    print(\"Final rows: %d\" %len(final.index))\n",
    "    \n",
    "    #take a look at the confusion matrix\n",
    "    print(pd.crosstab(final[target_var], final.predictedClass))\n",
    "    print(\"0s: %d, 1s: %d\" %(np.sum((final[target_var] == 0) & (final.predictedClass == 0))\n",
    "                             ,np.sum((final[target_var] == 1) & (final.predictedClass == 1))))\n",
    "    print(\"Accuracy: %.3f\" %float(np.sum(final[target_var] == final.predictedClass) / float(len(y_test))))\n",
    "    print(\"Precision: %.3f\" %float(np.sum((final[target_var] == 1) & (final.predictedClass == 1)) / np.sum(final[target_var] == 1)))\n",
    "    print(\"True Positives: %d\" %np.sum((final[target_var] == 1) & (final.predictedClass == 1)))\n",
    "    print(\"Total Positives: %d\" %np.sum(final[target_var] == 1))\n",
    "    if algo == 'rf':\n",
    "        reportModelMetric(predictor, 'featureImportance', x_train, algo)"
   ]
  },
  {
   "cell_type": "code",
   "execution_count": 7,
   "metadata": {
    "collapsed": false
   },
   "outputs": [
    {
     "name": "stderr",
     "output_type": "stream",
     "text": [
      "/Users/dineshmurali/miniconda3/lib/python3.5/site-packages/sklearn/utils/fixes.py:313: FutureWarning: numpy not_equal will not check object identity in the future. The comparison did not return the same result as suggested by the identity (`is`)) and will change.\n",
      "  _nan_object_mask = _nan_object_array != _nan_object_array\n"
     ]
    },
    {
     "name": "stdout",
     "output_type": "stream",
     "text": [
      "(42930, 63)\n",
      "(10733, 63)\n",
      "(42930,)\n",
      "(10733,)\n"
     ]
    }
   ],
   "source": [
    "from sklearn.ensemble import RandomForestClassifier\n",
    "from sklearn.neighbors import KNeighborsClassifier\n",
    "from sklearn.linear_model import LogisticRegression\n",
    "from sklearn.model_selection import RandomizedSearchCV\n",
    "import time\n",
    "from sklearn.model_selection import cross_val_score, train_test_split\n",
    "#from sklearn.cross_validation import \n",
    "\n",
    "x_train, x_test, y_train, y_test = train_test_split(cleanup_required_conf_final\n",
    "                                                      , cleanup_required_conf_final['Cleanup Required']\n",
    "                                                      , test_size = 0.2)\n",
    "print(x_train.shape)\n",
    "print(x_test.shape)\n",
    "print(y_train.shape)\n",
    "print(y_test.shape)"
   ]
  },
  {
   "cell_type": "code",
   "execution_count": 8,
   "metadata": {
    "collapsed": false
   },
   "outputs": [
    {
     "name": "stderr",
     "output_type": "stream",
     "text": [
      "/Users/dineshmurali/miniconda3/lib/python3.5/site-packages/pandas/core/frame.py:3697: SettingWithCopyWarning: \n",
      "A value is trying to be set on a copy of a slice from a DataFrame\n",
      "\n",
      "See the caveats in the documentation: http://pandas.pydata.org/pandas-docs/stable/indexing.html#indexing-view-versus-copy\n",
      "  errors=errors)\n"
     ]
    }
   ],
   "source": [
    "x_train.drop(columns = ['Cleanup Required'], axis = 1, inplace = True)\n",
    "x_test.drop(columns = ['Cleanup Required'], axis = 1, inplace = True)"
   ]
  },
  {
   "cell_type": "code",
   "execution_count": 8,
   "metadata": {
    "collapsed": false
   },
   "outputs": [
    {
     "name": "stdout",
     "output_type": "stream",
     "text": [
      "{'params': {'n_estimators': 20, 'min_samples_split': 5, 'min_samples_leaf': 2}, 'score': 1.0}\n"
     ]
    }
   ],
   "source": [
    "bestParams = []\n",
    "bestParams = searchBestModelParameters('rf', x_train, y_train, 'Cleanup Required', scoring = 'f1')"
   ]
  },
  {
   "cell_type": "code",
   "execution_count": 9,
   "metadata": {
    "collapsed": false
   },
   "outputs": [
    {
     "name": "stdout",
     "output_type": "stream",
     "text": [
      "{'params': {'n_estimators': 60, 'min_samples_split': 2, 'min_samples_leaf': 2}, 'score': 0.88900000000000001}\n"
     ]
    }
   ],
   "source": [
    "bestParams = []\n",
    "bestParams = searchBestModelParameters('rf', x_train, y_train, 'Cleanup Required', scoring = 'f1')"
   ]
  },
  {
   "cell_type": "code",
   "execution_count": 15,
   "metadata": {
    "collapsed": false
   },
   "outputs": [
    {
     "name": "stdout",
     "output_type": "stream",
     "text": [
      "Predicted rows: 10733\n",
      "Test set rows: 10733\n",
      "Final rows: 10733\n",
      "predictedClass      0     1\n",
      "Cleanup Required           \n",
      "0.0               207   327\n",
      "1.0               505  1054\n",
      "0s: 207, 1s: 1054\n",
      "Accuracy: 0.117\n",
      "Precision: 0.676\n",
      "True Positives: 1054\n",
      "Total Positives: 1559\n",
      "Output written to RFFeatureImportance_rf.csv\n"
     ]
    }
   ],
   "source": [
    "predictAndReport('rf', bestParams['params'], x_train, y_train, x_test, y_test, 'Cleanup Required')"
   ]
  }
 ],
 "metadata": {
  "kernelspec": {
   "display_name": "Python 3",
   "language": "python",
   "name": "python3"
  },
  "language_info": {
   "codemirror_mode": {
    "name": "ipython",
    "version": 3
   },
   "file_extension": ".py",
   "mimetype": "text/x-python",
   "name": "python",
   "nbconvert_exporter": "python",
   "pygments_lexer": "ipython3",
   "version": "3.5.6"
  }
 },
 "nbformat": 4,
 "nbformat_minor": 0
}
